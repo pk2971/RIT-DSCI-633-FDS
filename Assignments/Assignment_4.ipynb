{
  "nbformat": 4,
  "nbformat_minor": 0,
  "metadata": {
    "colab": {
      "name": "Assignment 4.ipynb",
      "provenance": []
    },
    "kernelspec": {
      "name": "python3",
      "display_name": "Python 3"
    },
    "language_info": {
      "name": "python"
    }
  },
  "cells": [
    {
      "cell_type": "markdown",
      "metadata": {
        "id": "-yecLbaJyW98"
      },
      "source": [
        "Importing the libraries etc."
      ]
    },
    {
      "cell_type": "code",
      "metadata": {
        "colab": {
          "base_uri": "https://localhost:8080/"
        },
        "id": "ivZvKmiFyhvA",
        "outputId": "b371e2c3-8e93-4a84-b9c1-4d68b8e7461f"
      },
      "source": [
        "####Importing libraries and dowloading iris data set\n",
        "import matplotlib.pyplot as plt\n",
        "import numpy as np \n",
        "import pandas as pd\n",
        "import sklearn\n",
        "from sklearn.datasets import load_iris\n",
        "from sklearn import svm\n",
        "import matplotlib.pyplot as plt\n",
        "import seaborn as sns\n",
        "#Define the col names\n",
        "colnames=[\"sepal_length_in_cm\", \"sepal_width_in_cm\",\"petal_length_in_cm\",\"petal_width_in_cm\", \"class\"]\n",
        "df = pd.read_csv(\"https://archive.ics.uci.edu/ml/machine-learning-databases/iris/iris.data\", header = None, names= colnames )\n",
        "df= df.replace({\"class\":  {\"Iris-setosa\":1,\"Iris-versicolor\":2, \"Iris-virginica\":3}})\n",
        "#Visualize the new dataset\n",
        "print(df.head())\n"
      ],
      "execution_count": 40,
      "outputs": [
        {
          "output_type": "stream",
          "name": "stdout",
          "text": [
            "   sepal_length_in_cm  sepal_width_in_cm  ...  petal_width_in_cm  class\n",
            "0                 5.1                3.5  ...                0.2      1\n",
            "1                 4.9                3.0  ...                0.2      1\n",
            "2                 4.7                3.2  ...                0.2      1\n",
            "3                 4.6                3.1  ...                0.2      1\n",
            "4                 5.0                3.6  ...                0.2      1\n",
            "\n",
            "[5 rows x 5 columns]\n"
          ]
        }
      ]
    },
    {
      "cell_type": "code",
      "metadata": {
        "colab": {
          "base_uri": "https://localhost:8080/",
          "height": 297
        },
        "id": "VOF0cz8p0ws1",
        "outputId": "d41e40e0-23e9-424f-ed58-c7bf89b5f83d"
      },
      "source": [
        "df.describe()"
      ],
      "execution_count": 9,
      "outputs": [
        {
          "output_type": "execute_result",
          "data": {
            "text/html": [
              "<div>\n",
              "<style scoped>\n",
              "    .dataframe tbody tr th:only-of-type {\n",
              "        vertical-align: middle;\n",
              "    }\n",
              "\n",
              "    .dataframe tbody tr th {\n",
              "        vertical-align: top;\n",
              "    }\n",
              "\n",
              "    .dataframe thead th {\n",
              "        text-align: right;\n",
              "    }\n",
              "</style>\n",
              "<table border=\"1\" class=\"dataframe\">\n",
              "  <thead>\n",
              "    <tr style=\"text-align: right;\">\n",
              "      <th></th>\n",
              "      <th>sepal_length_in_cm</th>\n",
              "      <th>sepal_width_in_cm</th>\n",
              "      <th>petal_length_in_cm</th>\n",
              "      <th>petal_width_in_cm</th>\n",
              "      <th>class</th>\n",
              "    </tr>\n",
              "  </thead>\n",
              "  <tbody>\n",
              "    <tr>\n",
              "      <th>count</th>\n",
              "      <td>150.000000</td>\n",
              "      <td>150.000000</td>\n",
              "      <td>150.000000</td>\n",
              "      <td>150.000000</td>\n",
              "      <td>150.000000</td>\n",
              "    </tr>\n",
              "    <tr>\n",
              "      <th>mean</th>\n",
              "      <td>5.843333</td>\n",
              "      <td>3.054000</td>\n",
              "      <td>3.758667</td>\n",
              "      <td>1.198667</td>\n",
              "      <td>2.000000</td>\n",
              "    </tr>\n",
              "    <tr>\n",
              "      <th>std</th>\n",
              "      <td>0.828066</td>\n",
              "      <td>0.433594</td>\n",
              "      <td>1.764420</td>\n",
              "      <td>0.763161</td>\n",
              "      <td>0.819232</td>\n",
              "    </tr>\n",
              "    <tr>\n",
              "      <th>min</th>\n",
              "      <td>4.300000</td>\n",
              "      <td>2.000000</td>\n",
              "      <td>1.000000</td>\n",
              "      <td>0.100000</td>\n",
              "      <td>1.000000</td>\n",
              "    </tr>\n",
              "    <tr>\n",
              "      <th>25%</th>\n",
              "      <td>5.100000</td>\n",
              "      <td>2.800000</td>\n",
              "      <td>1.600000</td>\n",
              "      <td>0.300000</td>\n",
              "      <td>1.000000</td>\n",
              "    </tr>\n",
              "    <tr>\n",
              "      <th>50%</th>\n",
              "      <td>5.800000</td>\n",
              "      <td>3.000000</td>\n",
              "      <td>4.350000</td>\n",
              "      <td>1.300000</td>\n",
              "      <td>2.000000</td>\n",
              "    </tr>\n",
              "    <tr>\n",
              "      <th>75%</th>\n",
              "      <td>6.400000</td>\n",
              "      <td>3.300000</td>\n",
              "      <td>5.100000</td>\n",
              "      <td>1.800000</td>\n",
              "      <td>3.000000</td>\n",
              "    </tr>\n",
              "    <tr>\n",
              "      <th>max</th>\n",
              "      <td>7.900000</td>\n",
              "      <td>4.400000</td>\n",
              "      <td>6.900000</td>\n",
              "      <td>2.500000</td>\n",
              "      <td>3.000000</td>\n",
              "    </tr>\n",
              "  </tbody>\n",
              "</table>\n",
              "</div>"
            ],
            "text/plain": [
              "       sepal_length_in_cm  sepal_width_in_cm  ...  petal_width_in_cm       class\n",
              "count          150.000000         150.000000  ...         150.000000  150.000000\n",
              "mean             5.843333           3.054000  ...           1.198667    2.000000\n",
              "std              0.828066           0.433594  ...           0.763161    0.819232\n",
              "min              4.300000           2.000000  ...           0.100000    1.000000\n",
              "25%              5.100000           2.800000  ...           0.300000    1.000000\n",
              "50%              5.800000           3.000000  ...           1.300000    2.000000\n",
              "75%              6.400000           3.300000  ...           1.800000    3.000000\n",
              "max              7.900000           4.400000  ...           2.500000    3.000000\n",
              "\n",
              "[8 rows x 5 columns]"
            ]
          },
          "metadata": {},
          "execution_count": 9
        }
      ]
    },
    {
      "cell_type": "markdown",
      "metadata": {
        "id": "Vzheygmxyy_n"
      },
      "source": [
        "Data analysis and manipulation. The iris data set is pretty clean and less manipulation is needed."
      ]
    },
    {
      "cell_type": "code",
      "metadata": {
        "colab": {
          "base_uri": "https://localhost:8080/",
          "height": 386
        },
        "id": "h_uAsrRjzJk-",
        "outputId": "49eb09dc-0a14-4121-d45c-2a1930f8a082"
      },
      "source": [
        "import matplotlib.pyplot as plt\n",
        "import seaborn as sns\n",
        "plt.figure(1)\n",
        "sns.heatmap(df.corr())\n",
        "plt.title('Iris correlation')\n",
        "#Heatmap"
      ],
      "execution_count": 7,
      "outputs": [
        {
          "output_type": "execute_result",
          "data": {
            "text/plain": [
              "Text(0.5, 1.0, 'Iris correlation')"
            ]
          },
          "metadata": {},
          "execution_count": 7
        },
        {
          "output_type": "display_data",
          "data": {
            "image/png": "[encoded data removed]",
            "text/plain": [
              "<Figure size 432x288 with 2 Axes>"
            ]
          },
          "metadata": {
            "needs_background": "light"
          }
        }
      ]
    },
    {
      "cell_type": "code",
      "metadata": {
        "colab": {
          "base_uri": "https://localhost:8080/",
          "height": 676
        },
        "id": "2h5mSJwz0a-2",
        "outputId": "5cfc6f6c-6f9e-4ad9-ee95-432d0a539920"
      },
      "source": [
        "#Box plot of all the features\n",
        "plt.figure()\n",
        "df.boxplot(by=\"class\", figsize=(15, 10))\n",
        "plt.show()"
      ],
      "execution_count": 13,
      "outputs": [
        {
          "output_type": "display_data",
          "data": {
            "text/plain": [
              "<Figure size 432x288 with 0 Axes>"
            ]
          },
          "metadata": {}
        },
        {
          "output_type": "display_data",
          "data": {
            "image/png": "[encoded data removed]",
            "text/plain": [
              "<Figure size 1080x720 with 4 Axes>"
            ]
          },
          "metadata": {
            "needs_background": "light"
          }
        }
      ]
    },
    {
      "cell_type": "code",
      "metadata": {
        "colab": {
          "base_uri": "https://localhost:8080/",
          "height": 300
        },
        "id": "MEE41nVz8iwt",
        "outputId": "f65234c0-bdb2-482c-c22b-f9dea6b533f5"
      },
      "source": [
        "df.plot(kind=\"scatter\", x=\"sepal_length_in_cm\", y=\"sepal_width_in_cm\")"
      ],
      "execution_count": 48,
      "outputs": [
        {
          "output_type": "execute_result",
          "data": {
            "text/plain": [
              "<matplotlib.axes._subplots.AxesSubplot at 0x7f15ec9a10d0>"
            ]
          },
          "metadata": {},
          "execution_count": 48
        },
        {
          "output_type": "display_data",
          "data": {
            "image/png": "[encoded data removed]",
            "text/plain": [
              "<Figure size 432x288 with 1 Axes>"
            ]
          },
          "metadata": {
            "needs_background": "light"
          }
        }
      ]
    },
    {
      "cell_type": "markdown",
      "metadata": {
        "id": "2j4-ftmu1XJD"
      },
      "source": [
        "Splitting the data into testing and training sets."
      ]
    },
    {
      "cell_type": "code",
      "metadata": {
        "id": "3RU--0Xa1ceM"
      },
      "source": [
        "X = df.iloc[:,:-1]\n",
        "y = df.iloc[:, -1].values"
      ],
      "execution_count": 14,
      "outputs": []
    },
    {
      "cell_type": "markdown",
      "metadata": {
        "id": "XS89a_8h1qC1"
      },
      "source": [
        "Linear SVM\n"
      ]
    },
    {
      "cell_type": "code",
      "metadata": {
        "id": "4VPoH7wM1rsf"
      },
      "source": [
        "from sklearn.model_selection import train_test_split\n",
        "X_train, X_test, y_train, y_test = train_test_split(X, y, test_size = 0.25, random_state = 0)\n",
        "from sklearn.svm import SVC\n",
        "SVMlinear_classifier = SVC(kernel = 'linear', random_state = 0)\n",
        "#Fitting the model for the data\n",
        "model=SVMlinear_classifier.fit(X_train, y_train)\n",
        "#Predicting\n",
        "y_pred = SVMlinear_classifier.predict(X_test)"
      ],
      "execution_count": 16,
      "outputs": []
    },
    {
      "cell_type": "markdown",
      "metadata": {
        "id": "p3VliSI62c8F"
      },
      "source": [
        "Accuracy and RMSE of the SVM Linear Classification model"
      ]
    },
    {
      "cell_type": "code",
      "metadata": {
        "colab": {
          "base_uri": "https://localhost:8080/"
        },
        "id": "-Adb75SN2hWN",
        "outputId": "e876a556-630f-4844-b4a1-4a774c089059"
      },
      "source": [
        "from sklearn.model_selection import cross_val_score\n",
        "accuracies = cross_val_score(estimator = SVMlinear_classifier, X = X_train, y = y_train, cv = 10)\n",
        "print(\"Accuracy: {:.2f} %\".format(accuracies.mean()*100))\n",
        "print(\"Standard Deviation: {:.2f} %\".format(accuracies.std()*100))\n",
        "print ('RMSE', model.score(X_train,y_train))"
      ],
      "execution_count": 17,
      "outputs": [
        {
          "output_type": "stream",
          "name": "stdout",
          "text": [
            "Accuracy: 98.18 %\n",
            "Standard Deviation: 3.64 %\n",
            "RMSE 0.9821428571428571\n"
          ]
        }
      ]
    },
    {
      "cell_type": "markdown",
      "metadata": {
        "id": "PbHAcM3Q2rKS"
      },
      "source": [
        "GridSearchSV for SVM Hyperparameters"
      ]
    },
    {
      "cell_type": "code",
      "metadata": {
        "colab": {
          "base_uri": "https://localhost:8080/"
        },
        "id": "VPG3EhI_2xzU",
        "outputId": "ab5840a7-169c-40d6-db8c-ab89b5703b95"
      },
      "source": [
        "from sklearn.model_selection import GridSearchCV\n",
        "gridparams = {'C':[0.1,1,10,100], 'gamma':[1,0.1,0.01,0.001]}\n",
        "grid = GridSearchCV(SVC(), gridparams, refit = True, verbose=3)\n",
        "grid.fit(X_train, y_train)\n",
        "gridpred = grid.predict(X_test)\n",
        "from sklearn.metrics import classification_report\n",
        "print(classification_report(y_test, gridpred))"
      ],
      "execution_count": 18,
      "outputs": [
        {
          "output_type": "stream",
          "name": "stdout",
          "text": [
            "Fitting 5 folds for each of 16 candidates, totalling 80 fits\n",
            "[CV] C=0.1, gamma=1 ..................................................\n",
            "[CV] ...................... C=0.1, gamma=1, score=1.000, total=   0.0s\n",
            "[CV] C=0.1, gamma=1 ..................................................\n",
            "[CV] ...................... C=0.1, gamma=1, score=0.913, total=   0.0s\n",
            "[CV] C=0.1, gamma=1 ..................................................\n",
            "[CV] ...................... C=0.1, gamma=1, score=1.000, total=   0.0s\n",
            "[CV] C=0.1, gamma=1 ..................................................\n",
            "[CV] ...................... C=0.1, gamma=1, score=0.909, total=   0.0s\n",
            "[CV] C=0.1, gamma=1 ..................................................\n",
            "[CV] ...................... C=0.1, gamma=1, score=0.955, total=   0.0s\n",
            "[CV] C=0.1, gamma=0.1 ................................................\n",
            "[CV] .................... C=0.1, gamma=0.1, score=0.913, total=   0.0s\n",
            "[CV] C=0.1, gamma=0.1 ................................................\n",
            "[CV] .................... C=0.1, gamma=0.1, score=0.913, total=   0.0s\n",
            "[CV] C=0.1, gamma=0.1 ................................................\n",
            "[CV] .................... C=0.1, gamma=0.1, score=0.909, total=   0.0s\n",
            "[CV] C=0.1, gamma=0.1 ................................................\n",
            "[CV] .................... C=0.1, gamma=0.1, score=0.864, total=   0.0s\n",
            "[CV] C=0.1, gamma=0.1 ................................................\n",
            "[CV] .................... C=0.1, gamma=0.1, score=0.909, total=   0.0s\n",
            "[CV] C=0.1, gamma=0.01 ...............................................\n",
            "[CV] ................... C=0.1, gamma=0.01, score=0.696, total=   0.0s\n",
            "[CV] C=0.1, gamma=0.01 ...............................................\n",
            "[CV] ................... C=0.1, gamma=0.01, score=0.696, total=   0.0s\n",
            "[CV] C=0.1, gamma=0.01 ...............................................\n",
            "[CV] ................... C=0.1, gamma=0.01, score=0.682, total=   0.0s\n",
            "[CV] C=0.1, gamma=0.01 ...............................................\n",
            "[CV] ................... C=0.1, gamma=0.01, score=0.682, total=   0.0s\n",
            "[CV] C=0.1, gamma=0.01 ...............................................\n",
            "[CV] ................... C=0.1, gamma=0.01, score=0.727, total=   0.0s\n",
            "[CV] C=0.1, gamma=0.001 ..............................................\n",
            "[CV] .................. C=0.1, gamma=0.001, score=0.348, total=   0.0s\n",
            "[CV] C=0.1, gamma=0.001 ..............................................\n",
            "[CV] .................. C=0.1, gamma=0.001, score=0.348, total=   0.0s\n",
            "[CV] C=0.1, gamma=0.001 ..............................................\n",
            "[CV] .................. C=0.1, gamma=0.001, score=0.364, total=   0.0s\n",
            "[CV] C=0.1, gamma=0.001 ..............................................\n",
            "[CV] .................. C=0.1, gamma=0.001, score=0.364, total=   0.0s\n",
            "[CV] C=0.1, gamma=0.001 ..............................................\n",
            "[CV] .................. C=0.1, gamma=0.001, score=0.409, total=   0.0s\n",
            "[CV] C=1, gamma=1 ....................................................\n",
            "[CV] ........................ C=1, gamma=1, score=0.957, total=   0.0s\n",
            "[CV] C=1, gamma=1 ....................................................\n",
            "[CV] ........................ C=1, gamma=1, score=0.913, total=   0.0s\n",
            "[CV] C=1, gamma=1 ....................................................\n",
            "[CV] ........................ C=1, gamma=1, score=1.000, total=   0.0s\n",
            "[CV] C=1, gamma=1 ....................................................\n",
            "[CV] ........................ C=1, gamma=1, score=0.909, total=   0.0s\n",
            "[CV] C=1, gamma=1 ....................................................\n",
            "[CV] ........................ C=1, gamma=1, score=0.955, total=   0.0s\n",
            "[CV] C=1, gamma=0.1 ..................................................\n",
            "[CV] ...................... C=1, gamma=0.1, score=1.000, total=   0.0s\n",
            "[CV] C=1, gamma=0.1 ..................................................\n",
            "[CV] ...................... C=1, gamma=0.1, score=0.957, total=   0.0s\n",
            "[CV] C=1, gamma=0.1 ..................................................\n",
            "[CV] ...................... C=1, gamma=0.1, score=1.000, total=   0.0s\n",
            "[CV] C=1, gamma=0.1 ..................................................\n",
            "[CV] ...................... C=1, gamma=0.1, score=0.909, total=   0.0s\n",
            "[CV] C=1, gamma=0.1 ..................................................\n",
            "[CV] ...................... C=1, gamma=0.1, score=0.955, total=   0.0s\n",
            "[CV] C=1, gamma=0.01 .................................................\n",
            "[CV] ..................... C=1, gamma=0.01, score=0.913, total=   0.0s\n",
            "[CV] C=1, gamma=0.01 .................................................\n",
            "[CV] ..................... C=1, gamma=0.01, score=0.913, total=   0.0s\n",
            "[CV] C=1, gamma=0.01 .................................................\n",
            "[CV] ..................... C=1, gamma=0.01, score=1.000, total=   0.0s\n",
            "[CV] C=1, gamma=0.01 .................................................\n",
            "[CV] ..................... C=1, gamma=0.01, score=0.909, total=   0.0s\n",
            "[CV] C=1, gamma=0.01 .................................................\n",
            "[CV] ..................... C=1, gamma=0.01, score=0.955, total=   0.0s\n",
            "[CV] C=1, gamma=0.001 ................................................\n",
            "[CV] .................... C=1, gamma=0.001, score=0.696, total=   0.0s\n",
            "[CV] C=1, gamma=0.001 ................................................\n",
            "[CV] .................... C=1, gamma=0.001, score=0.696, total=   0.0s\n",
            "[CV] C=1, gamma=0.001 ................................................\n",
            "[CV] .................... C=1, gamma=0.001, score=0.682, total=   0.0s\n",
            "[CV] C=1, gamma=0.001 ................................................\n",
            "[CV] .................... C=1, gamma=0.001, score=0.682, total=   0.0s\n",
            "[CV] C=1, gamma=0.001 ................................................\n"
          ]
        },
        {
          "output_type": "stream",
          "name": "stderr",
          "text": [
            "[Parallel(n_jobs=1)]: Using backend SequentialBackend with 1 concurrent workers.\n",
            "[Parallel(n_jobs=1)]: Done   1 out of   1 | elapsed:    0.0s remaining:    0.0s\n",
            "[Parallel(n_jobs=1)]: Done   2 out of   2 | elapsed:    0.0s remaining:    0.0s\n"
          ]
        },
        {
          "output_type": "stream",
          "name": "stdout",
          "text": [
            "[CV] .................... C=1, gamma=0.001, score=0.727, total=   0.0s\n",
            "[CV] C=10, gamma=1 ...................................................\n",
            "[CV] ....................... C=10, gamma=1, score=0.957, total=   0.0s\n",
            "[CV] C=10, gamma=1 ...................................................\n",
            "[CV] ....................... C=10, gamma=1, score=0.957, total=   0.0s\n",
            "[CV] C=10, gamma=1 ...................................................\n",
            "[CV] ....................... C=10, gamma=1, score=1.000, total=   0.0s\n",
            "[CV] C=10, gamma=1 ...................................................\n",
            "[CV] ....................... C=10, gamma=1, score=0.864, total=   0.0s\n",
            "[CV] C=10, gamma=1 ...................................................\n",
            "[CV] ....................... C=10, gamma=1, score=0.955, total=   0.0s\n",
            "[CV] C=10, gamma=0.1 .................................................\n",
            "[CV] ..................... C=10, gamma=0.1, score=1.000, total=   0.0s\n",
            "[CV] C=10, gamma=0.1 .................................................\n",
            "[CV] ..................... C=10, gamma=0.1, score=0.957, total=   0.0s\n",
            "[CV] C=10, gamma=0.1 .................................................\n",
            "[CV] ..................... C=10, gamma=0.1, score=1.000, total=   0.0s\n",
            "[CV] C=10, gamma=0.1 .................................................\n",
            "[CV] ..................... C=10, gamma=0.1, score=0.955, total=   0.0s\n",
            "[CV] C=10, gamma=0.1 .................................................\n",
            "[CV] ..................... C=10, gamma=0.1, score=0.955, total=   0.0s\n",
            "[CV] C=10, gamma=0.01 ................................................\n",
            "[CV] .................... C=10, gamma=0.01, score=1.000, total=   0.0s\n",
            "[CV] C=10, gamma=0.01 ................................................\n",
            "[CV] .................... C=10, gamma=0.01, score=0.957, total=   0.0s\n",
            "[CV] C=10, gamma=0.01 ................................................\n",
            "[CV] .................... C=10, gamma=0.01, score=1.000, total=   0.0s\n",
            "[CV] C=10, gamma=0.01 ................................................\n",
            "[CV] .................... C=10, gamma=0.01, score=0.909, total=   0.0s\n",
            "[CV] C=10, gamma=0.01 ................................................\n",
            "[CV] .................... C=10, gamma=0.01, score=0.955, total=   0.0s\n",
            "[CV] C=10, gamma=0.001 ...............................................\n",
            "[CV] ................... C=10, gamma=0.001, score=0.913, total=   0.0s\n",
            "[CV] C=10, gamma=0.001 ...............................................\n",
            "[CV] ................... C=10, gamma=0.001, score=0.913, total=   0.0s\n",
            "[CV] C=10, gamma=0.001 ...............................................\n",
            "[CV] ................... C=10, gamma=0.001, score=1.000, total=   0.0s\n",
            "[CV] C=10, gamma=0.001 ...............................................\n",
            "[CV] ................... C=10, gamma=0.001, score=0.909, total=   0.0s\n",
            "[CV] C=10, gamma=0.001 ...............................................\n",
            "[CV] ................... C=10, gamma=0.001, score=0.955, total=   0.0s\n",
            "[CV] C=100, gamma=1 ..................................................\n",
            "[CV] ...................... C=100, gamma=1, score=0.957, total=   0.0s\n",
            "[CV] C=100, gamma=1 ..................................................\n",
            "[CV] ...................... C=100, gamma=1, score=0.957, total=   0.0s\n",
            "[CV] C=100, gamma=1 ..................................................\n",
            "[CV] ...................... C=100, gamma=1, score=1.000, total=   0.0s\n",
            "[CV] C=100, gamma=1 ..................................................\n",
            "[CV] ...................... C=100, gamma=1, score=0.864, total=   0.0s\n",
            "[CV] C=100, gamma=1 ..................................................\n",
            "[CV] ...................... C=100, gamma=1, score=0.955, total=   0.0s\n",
            "[CV] C=100, gamma=0.1 ................................................\n",
            "[CV] .................... C=100, gamma=0.1, score=1.000, total=   0.0s\n",
            "[CV] C=100, gamma=0.1 ................................................\n",
            "[CV] .................... C=100, gamma=0.1, score=0.957, total=   0.0s\n",
            "[CV] C=100, gamma=0.1 ................................................\n",
            "[CV] .................... C=100, gamma=0.1, score=1.000, total=   0.0s\n",
            "[CV] C=100, gamma=0.1 ................................................\n",
            "[CV] .................... C=100, gamma=0.1, score=0.864, total=   0.0s\n",
            "[CV] C=100, gamma=0.1 ................................................\n",
            "[CV] .................... C=100, gamma=0.1, score=0.955, total=   0.0s\n",
            "[CV] C=100, gamma=0.01 ...............................................\n",
            "[CV] ................... C=100, gamma=0.01, score=1.000, total=   0.0s\n",
            "[CV] C=100, gamma=0.01 ...............................................\n",
            "[CV] ................... C=100, gamma=0.01, score=0.913, total=   0.0s\n",
            "[CV] C=100, gamma=0.01 ...............................................\n",
            "[CV] ................... C=100, gamma=0.01, score=1.000, total=   0.0s\n",
            "[CV] C=100, gamma=0.01 ...............................................\n",
            "[CV] ................... C=100, gamma=0.01, score=0.955, total=   0.0s\n",
            "[CV] C=100, gamma=0.01 ...............................................\n",
            "[CV] ................... C=100, gamma=0.01, score=0.955, total=   0.0s\n",
            "[CV] C=100, gamma=0.001 ..............................................\n",
            "[CV] .................. C=100, gamma=0.001, score=1.000, total=   0.0s\n",
            "[CV] C=100, gamma=0.001 ..............................................\n",
            "[CV] .................. C=100, gamma=0.001, score=0.957, total=   0.0s\n",
            "[CV] C=100, gamma=0.001 ..............................................\n",
            "[CV] .................. C=100, gamma=0.001, score=1.000, total=   0.0s\n",
            "[CV] C=100, gamma=0.001 ..............................................\n",
            "[CV] .................. C=100, gamma=0.001, score=0.909, total=   0.0s\n",
            "[CV] C=100, gamma=0.001 ..............................................\n",
            "[CV] .................. C=100, gamma=0.001, score=0.955, total=   0.0s\n",
            "              precision    recall  f1-score   support\n",
            "\n",
            "           1       1.00      1.00      1.00        13\n",
            "           2       1.00      0.94      0.97        16\n",
            "           3       0.90      1.00      0.95         9\n",
            "\n",
            "    accuracy                           0.97        38\n",
            "   macro avg       0.97      0.98      0.97        38\n",
            "weighted avg       0.98      0.97      0.97        38\n",
            "\n"
          ]
        },
        {
          "output_type": "stream",
          "name": "stderr",
          "text": [
            "[Parallel(n_jobs=1)]: Done  80 out of  80 | elapsed:    0.4s finished\n"
          ]
        }
      ]
    },
    {
      "cell_type": "markdown",
      "metadata": {
        "id": "Z6VEfPZ13Iv3"
      },
      "source": [
        "RBF Kernel functions."
      ]
    },
    {
      "cell_type": "code",
      "metadata": {
        "colab": {
          "base_uri": "https://localhost:8080/",
          "height": 313
        },
        "id": "egne9rKM3L3S",
        "outputId": "a92cadf1-d914-4402-c85a-3c0e3819ea4a"
      },
      "source": [
        "gamma_range=[0.01,0.02,0.03,0.04,0.05]\n",
        "acc_score=[]\n",
        "for g in gamma_range:\n",
        "    svc = SVC(kernel='rbf', gamma=g)\n",
        "    scores = cross_val_score(svc, X, y, cv=10, scoring='accuracy')\n",
        "    acc_score.append(scores.mean())\n",
        "print(acc_score)    \n",
        "import matplotlib.pyplot as plt\n",
        "%matplotlib inline\n",
        "\n",
        "gamma_range=[0.01,0.02,0.03,0.04,0.05]\n",
        "\n",
        "# plotting the graph of gamma vs accuracy\n",
        "plt.plot(gamma_range,acc_score)\n",
        "plt.xlabel('Value of gamma for SVC ')\n",
        "plt.ylabel('Cross-Validated Accuracy')"
      ],
      "execution_count": 19,
      "outputs": [
        {
          "output_type": "stream",
          "name": "stdout",
          "text": [
            "[0.9400000000000001, 0.9533333333333334, 0.96, 0.9733333333333334, 0.9800000000000001]\n"
          ]
        },
        {
          "output_type": "execute_result",
          "data": {
            "text/plain": [
              "Text(0, 0.5, 'Cross-Validated Accuracy')"
            ]
          },
          "metadata": {},
          "execution_count": 19
        },
        {
          "output_type": "display_data",
          "data": {
            "image/png": "[encoded data removed]",
            "text/plain": [
              "<Figure size 432x288 with 1 Axes>"
            ]
          },
          "metadata": {
            "needs_background": "light"
          }
        }
      ]
    },
    {
      "cell_type": "markdown",
      "metadata": {
        "id": "XASn5In-3lCh"
      },
      "source": [
        "For the given set of gamma ranges the accurqacy score is proportional to the value of gamma."
      ]
    },
    {
      "cell_type": "markdown",
      "metadata": {
        "id": "ap64EKKG3tVK"
      },
      "source": [
        "K-Nearest Neighbours"
      ]
    },
    {
      "cell_type": "code",
      "metadata": {
        "colab": {
          "base_uri": "https://localhost:8080/"
        },
        "id": "NbopOk4M3xOJ",
        "outputId": "8d2bae41-4293-458e-b47c-b33752c1826d"
      },
      "source": [
        "from sklearn.neighbors import KNeighborsClassifier\n",
        "from sklearn.metrics import confusion_matrix, accuracy_score\n",
        "from sklearn.model_selection import cross_val_score\n",
        "df.groupby('class').size()\n",
        "X = df[colnames].values\n",
        "y = df['class'].values\n",
        "KNN_classifier = KNeighborsClassifier(n_neighbors=9)\n",
        "#Model fitting\n",
        "KNN_classifier.fit(X_train, y_train)\n",
        "# Predictiion\n",
        "y_pred = KNN_classifier.predict(X_test)\n",
        "#Accuracy of our model\n",
        "accuracy = accuracy_score(y_test, y_pred)*100\n",
        "print('Accuracy is ' + str(round(accuracy, 2)) + ' %.')"
      ],
      "execution_count": 22,
      "outputs": [
        {
          "output_type": "stream",
          "name": "stdout",
          "text": [
            "Accuracy is 97.37 %.\n"
          ]
        }
      ]
    },
    {
      "cell_type": "markdown",
      "metadata": {
        "id": "LXaYAusc4hzq"
      },
      "source": [
        "RandomizedSearchCV"
      ]
    },
    {
      "cell_type": "code",
      "metadata": {
        "colab": {
          "base_uri": "https://localhost:8080/"
        },
        "id": "sJ4wtdcP4k4n",
        "outputId": "8546b0a4-c999-476d-fb62-6ee314cc9c3c"
      },
      "source": [
        "from sklearn.model_selection import RandomizedSearchCV\n",
        "from sklearn.datasets import load_iris\n",
        "iris = load_iris()\n",
        "X=iris.data\n",
        "y=iris.target\n",
        "k_range=list(range(1,31))\n",
        "options=['uniform', 'distance']\n",
        "param_dist = dict(n_neighbors=k_range, weights=options)\n",
        "knn = KNeighborsClassifier(n_neighbors = 1)\n",
        "rand = RandomizedSearchCV(knn, param_dist, cv=10, scoring='accuracy', n_iter=10, random_state=5)\n",
        "rand.fit(X, y)\n",
        "print(rand.best_score_)\n",
        "print(rand.best_params_)\n",
        "best_scores=[]\n",
        "for i in range(20):\n",
        "    rand = RandomizedSearchCV(knn, param_dist, cv=10, scoring='accuracy', n_iter=10)\n",
        "    rand.fit(X, y)\n",
        "    best_scores.append(round(rand.best_score_,3))\n",
        "print(best_scores)"
      ],
      "execution_count": 45,
      "outputs": [
        {
          "output_type": "stream",
          "name": "stdout",
          "text": [
            "0.9800000000000001\n",
            "{'weights': 'uniform', 'n_neighbors': 18}\n",
            "[0.98, 0.98, 0.98, 0.98, 0.98, 0.98, 0.98, 0.973, 0.973, 0.973, 0.973, 0.973, 0.98, 0.98, 0.98, 0.973, 0.98, 0.98, 0.973, 0.98]\n"
          ]
        }
      ]
    },
    {
      "cell_type": "code",
      "metadata": {
        "id": "BDnE_Mk44sPd"
      },
      "source": [
        ""
      ],
      "execution_count": null,
      "outputs": []
    }
  ]
}